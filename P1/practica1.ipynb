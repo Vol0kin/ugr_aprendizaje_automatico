{
 "cells": [
  {
   "cell_type": "code",
   "execution_count": 2,
   "metadata": {},
   "outputs": [],
   "source": [
    "import numpy as np\n",
    "import matplotlib.pyplot as plt\n",
    "from mpl_toolkits.mplot3d import Axes3D\n",
    "import pandas"
   ]
  },
  {
   "cell_type": "code",
   "execution_count": 3,
   "metadata": {},
   "outputs": [],
   "source": [
    "def descent_gradient(initial_w, function, gradient, eta=0.01, threshold=None, iterations=100):\n",
    "    \"\"\"\n",
    "    Función para el cálculo del gradiente descendente\n",
    "    \n",
    "    :param initial_w: Pesos iniciales\n",
    "    :param function: Función a evaluar\n",
    "    :param gradient: Función gradiente a utilizar\n",
    "    :param eta: Valor de la tasa de aprendizaje (por defecto 0.01)\n",
    "    :param threshold: Valor umbral con el que parar (por defecto None)\n",
    "    :param iterations: Número máximo de iteraciones que tiene que hacer el bucle\n",
    "                       (por defecto 100)\n",
    "    \n",
    "    :returns: Devuelve el peso final (w), el número de iteraciones que ha llevado\n",
    "              conseguir llegar hasta éste, un array con todos los w y un array con\n",
    "              los valores de w evaluados en function\n",
    "    \"\"\"\n",
    "    \n",
    "    w = np.copy(initial_w)                  # Se copia initial_w para evitar modificarlo\n",
    "    iter = 0                                # Se inicializan las iteraciones a 0\n",
    "    w_list = []                             # Se inicializa una lista vacía con los valors de w\n",
    "    func_values_list = []                   # Se inicializa una lista vacía con los valors de la función\n",
    "    \n",
    "    w_list.append(w)                        # Añadir valor inicial de w\n",
    "    func_values_list.append(function(*w))   # Añadir valor inicial de w evaluado en function\n",
    "\n",
    "    # Se realiza el cálculo de la gradiente descendente mientras no se superen\n",
    "    # el número máximo de iteraciones.\n",
    "    while iter < iterations:\n",
    "        iter += 1\n",
    "        w = w - eta * gradient(*w)              # Actualización de w con los nuevos valores\n",
    "        \n",
    "        w_list.append(w)                        # Añadir nuevo w\n",
    "        func_values_list.append(function(*w))   # Añadir nueva evaluación de w en function\n",
    "        \n",
    "        # Si se ha especificado un umbral en el que parar y se ha pasado\n",
    "        # se sale del bucle\n",
    "        if threshold and function(*w) < threshold:\n",
    "            break\n",
    "\n",
    "    return w, iter, np.array(w_list), np.array(func_values_list)"
   ]
  },
  {
   "cell_type": "code",
   "execution_count": 4,
   "metadata": {},
   "outputs": [],
   "source": [
    "# Función E(u,v)\n",
    "def E(u, v):\n",
    "    return (u**2 * np.exp(v) - 2 * v**2 * np.exp(-u))**2\n",
    "\n",
    "# Derivada parcial de E respecto a u\n",
    "def diff_Eu(u, v):\n",
    "    return 2 * (u**2 * np.exp(v) - 2 * v**2 * np.exp(-u)) * (2 * u * np.exp(v) + 2 * v**2 * np.exp(-u))\n",
    "\n",
    "# Derivada parcial de E respecto a v\n",
    "def diff_Ev(u, v):\n",
    "    return 2 * (u**2 * np.exp(v) - 2 * v**2 * np.exp(-u)) * (u**2 * np.exp(v) - 4 * v * np.exp(-u))\n",
    "\n",
    "# Gradiente de E\n",
    "def gradient_E(u, v):\n",
    "    return np.array([diff_Eu(u, v), diff_Ev(u, v)])\n",
    "\n",
    "# Funcion f(x, y)\n",
    "def f(x, y):\n",
    "    return x**2 + 2 * y**2 + 2 * np.sin(2 * np.pi * x) * np.sin(2 * np.pi * y)\n",
    "\n",
    "# Derivada parcial de f respecto a x\n",
    "def diff_fx(x, y):\n",
    "    return 2 * x + 4 * np.pi * np.cos(2 * np.pi * x) * np.sin(2 * np.pi * y)\n",
    "\n",
    "# Derivada parcial de f respecto a y\n",
    "def diff_fy(x, y):\n",
    "    return 4 * y + 4 * np.pi * np.sin(2 * np.pi * x) * np.cos(2 * np.pi * y)\n",
    "\n",
    "# Gradiente de f\n",
    "def gradient_f(x, y):\n",
    "    return np.array([diff_fx(x, y), diff_fy(x, y)])\n"
   ]
  },
  {
   "cell_type": "code",
   "execution_count": 5,
   "metadata": {},
   "outputs": [
    {
     "name": "stdout",
     "output_type": "stream",
     "text": [
      "Numero de iteraciones:  33\n",
      "Coordenadas obtenidas: ( 0.6192076784506378 ,  0.9684482690100485 )\n"
     ]
    }
   ],
   "source": [
    "# Se fijan los parámetros que se van a usar en el cómputo de la gradiente descendente\n",
    "# (w inicial, num. iteraciones, valor mínimo)\n",
    "initial_w = np.array([1.0, 1.0])\n",
    "max_iter = 10000000000\n",
    "error = 1e-14\n",
    "\n",
    "w, it, w_array, func_val = descent_gradient(initial_w, E, gradient_E, threshold=error, iterations=max_iter)\n",
    "\n",
    "print ('Numero de iteraciones: ', it)\n",
    "print ('Coordenadas obtenidas: (', w[0], ', ', w[1],')')"
   ]
  },
  {
   "cell_type": "code",
   "execution_count": null,
   "metadata": {},
   "outputs": [],
   "source": []
  }
 ],
 "metadata": {
  "kernelspec": {
   "display_name": "Python 3",
   "language": "python",
   "name": "python3"
  },
  "language_info": {
   "codemirror_mode": {
    "name": "ipython",
    "version": 3
   },
   "file_extension": ".py",
   "mimetype": "text/x-python",
   "name": "python",
   "nbconvert_exporter": "python",
   "pygments_lexer": "ipython3",
   "version": "3.7.1"
  }
 },
 "nbformat": 4,
 "nbformat_minor": 2
}
