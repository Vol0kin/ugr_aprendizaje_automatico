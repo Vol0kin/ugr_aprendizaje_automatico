{
 "cells": [
  {
   "cell_type": "code",
   "execution_count": 1,
   "metadata": {},
   "outputs": [],
   "source": [
    "import numpy as np\n",
    "import matplotlib.pyplot as plt"
   ]
  },
  {
   "cell_type": "code",
   "execution_count": 2,
   "metadata": {},
   "outputs": [],
   "source": [
    "np.random.seed(1)"
   ]
  },
  {
   "cell_type": "code",
   "execution_count": 3,
   "metadata": {},
   "outputs": [],
   "source": [
    "# Ejericicio 1.1\n",
    "\n",
    "\n",
    "def simula_unif(N, dim, rango):\n",
    "\treturn np.random.uniform(rango[0],rango[1],(N,dim))\n",
    "\n",
    "def simula_gaus(N, dim, sigma):\n",
    "    media = 0    \n",
    "    out = np.zeros((N,dim),np.float64)        \n",
    "    for i in range(N):\n",
    "        # Para cada columna dim se emplea un sigma determinado. Es decir, para \n",
    "        # la primera columna (eje X) se usará una N(0,sqrt(sigma[0])) \n",
    "        # y para la segunda (eje Y) N(0,sqrt(sigma[1]))\n",
    "        out[i,:] = np.random.normal(loc=media, scale=np.sqrt(sigma), size=dim)\n",
    "    \n",
    "    return out\n",
    "\n",
    "\n",
    "def simula_recta(intervalo):\n",
    "    points = np.random.uniform(intervalo[0], intervalo[1], size=(2, 2))\n",
    "    x1 = points[0,0]\n",
    "    x2 = points[1,0]\n",
    "    y1 = points[0,1]\n",
    "    y2 = points[1,1]\n",
    "    # y = a*x + b\n",
    "    a = (y2-y1)/(x2-x1) # Calculo de la pendiente.\n",
    "    b = y1 - a*x1       # Calculo del termino independiente.\n",
    "    \n",
    "    return a, b"
   ]
  },
  {
   "cell_type": "code",
   "execution_count": 4,
   "metadata": {},
   "outputs": [],
   "source": [
    "###############################################################################\n",
    "# Ejercicio 1.2\n",
    "\n",
    "# La funcion np.sign(0) da 0, lo que nos puede dar problemas\n",
    "def signo(x):\n",
    "\tif x >= 0:\n",
    "\t\treturn 1\n",
    "\treturn -1\n",
    "\n",
    "def f(x, y, a, b):\n",
    "\treturn signo(y - a*x - b)"
   ]
  },
  {
   "cell_type": "code",
   "execution_count": 5,
   "metadata": {},
   "outputs": [],
   "source": [
    "def error_rate(x, y, a, b):\n",
    "    \"\"\"\n",
    "    Funcion para calcular los ratios de acierto y error entre los valores\n",
    "    reales de las etiquetas y los predichos.\n",
    "    \n",
    "    :param x: Array de vectores de caracteristicas\n",
    "    :param y: Array de etiquetas\n",
    "    :param a: Pendiente de la recta\n",
    "    :param b: Valor independiente de la recta\n",
    "    \n",
    "    :return Devuelve el ratio de aciertos y el ratio de errores\n",
    "    \"\"\"\n",
    "    \n",
    "    # Crear lista de y predichas\n",
    "    predicted_y = []\n",
    "    \n",
    "    # Predecir cada valor\n",
    "    for value in x:\n",
    "        predicted_y.append(f(value[0], value[1], a, b))\n",
    "    \n",
    "    # Convertir a array\n",
    "    predicted_y = np.array(predicted_y)\n",
    "    \n",
    "    return np.mean(y == predicted_y), np.mean(y != predicted_y)"
   ]
  },
  {
   "cell_type": "code",
   "execution_count": 6,
   "metadata": {},
   "outputs": [],
   "source": [
    "# Simular 50 puntos uniformemente distribuidos en el cuadrado [-50, 50] x [-50, 50]\n",
    "x = simula_unif(50, 2, [-50, 50])\n",
    "\n",
    "# Simular una recta en el rango [-50, 50] y calcular sus coeficientes\n",
    "a, b = simula_recta([-50, 50])\n",
    "\n",
    "# Obtener los valores de la etiqueta\n",
    "# Guardarlos primero en una lista y convertirlos en un array\n",
    "y = []\n",
    "\n",
    "for value in x:\n",
    "    y.append(f(value[0], value[1], a, b))\n",
    "\n",
    "y = np.array(y)"
   ]
  },
  {
   "cell_type": "code",
   "execution_count": 7,
   "metadata": {},
   "outputs": [
    {
     "name": "stdout",
     "output_type": "stream",
     "text": [
      "Ratio de aciertos: 1.0\n",
      "Ratio de error: 0.0\n"
     ]
    }
   ],
   "source": [
    "# Obtener ratios de acierto y error\n",
    "accuracy, error = error_rate(x, y, a, b)\n",
    "\n",
    "print('Ratio de aciertos: {}'.format(accuracy))\n",
    "print('Ratio de error: {}'.format(error))"
   ]
  },
  {
   "cell_type": "code",
   "execution_count": 8,
   "metadata": {},
   "outputs": [],
   "source": [
    "def insert_noise(y, ratio=0.1):\n",
    "    \"\"\"\n",
    "    Función para insertar ruido en una muestra de forma proporcional en cada\n",
    "    clase.\n",
    "    \n",
    "    :param y: Etiquetas sobre las que insertar ruido\n",
    "    :param ratio: Ratio de elementos de cada clase que modificar\n",
    "    \"\"\"\n",
    "    # Obtener número de elementos sobre los que aplicar ruido\n",
    "    # (redondear)\n",
    "    noisy_pos = round(np.where(y == 1)[0].shape[0] * ratio)\n",
    "    noisy_neg = round(np.where(y == -1)[0].shape[0] * ratio)\n",
    "    \n",
    "    # Obtener las posiciones de forma aleatoria\n",
    "    pos_index = np.random.choice(np.where(y == 1)[0], noisy_pos, replace=False)\n",
    "    neg_index = np.random.choice(np.where(y == -1)[0], noisy_neg, replace=False)\n",
    "    \n",
    "    # Cambiar los valores\n",
    "    y[pos_index] = -1\n",
    "    y[neg_index] = 1"
   ]
  },
  {
   "cell_type": "code",
   "execution_count": 9,
   "metadata": {},
   "outputs": [],
   "source": [
    "y_noisy = np.copy(y)\n",
    "\n",
    "insert_noise(y_noisy)"
   ]
  },
  {
   "cell_type": "code",
   "execution_count": 10,
   "metadata": {},
   "outputs": [
    {
     "name": "stdout",
     "output_type": "stream",
     "text": [
      "Ratio de aciertos: 0.9\n",
      "Ratio de error: 0.1\n"
     ]
    }
   ],
   "source": [
    "accuracy, error = error_rate(x, y_noisy, a, b)\n",
    "\n",
    "print('Ratio de aciertos: {}'.format(accuracy))\n",
    "print('Ratio de error: {}'.format(error))"
   ]
  },
  {
   "cell_type": "code",
   "execution_count": 11,
   "metadata": {},
   "outputs": [],
   "source": [
    "# Funcion proporcionada para mostrar las graficas\n",
    "def plot_datos_cuad(X, y, fz, title='Point cloud plot', xaxis='x axis', yaxis='y axis'):\n",
    "    #Preparar datos\n",
    "    min_xy = X.min(axis=0)\n",
    "    max_xy = X.max(axis=0)\n",
    "    border_xy = (max_xy-min_xy)*0.01\n",
    "    \n",
    "    #Generar grid de predicciones\n",
    "    xx, yy = np.mgrid[min_xy[0]-border_xy[0]:max_xy[0]+border_xy[0]+0.001:border_xy[0], \n",
    "                      min_xy[1]-border_xy[1]:max_xy[1]+border_xy[1]+0.001:border_xy[1]]\n",
    "    grid = np.c_[xx.ravel(), yy.ravel(), np.ones_like(xx).ravel()]\n",
    "    pred_y = fz(grid)\n",
    "    # pred_y[(pred_y>-1) & (pred_y<1)]\n",
    "    pred_y = np.clip(pred_y, -1, 1).reshape(xx.shape)\n",
    "    \n",
    "    #Plot\n",
    "    f, ax = plt.subplots(figsize=(8, 6))\n",
    "    contour = ax.contourf(xx, yy, pred_y, 50, cmap='RdBu',vmin=-1, vmax=1)\n",
    "    ax_c = f.colorbar(contour)\n",
    "    ax_c.set_label('$f(x, y)$')\n",
    "    ax_c.set_ticks([-1, -0.75, -0.5, -0.25, 0, 0.25, 0.5, 0.75, 1])\n",
    "    ax.scatter(X[:, 0], X[:, 1], c=y, s=50, linewidth=2, \n",
    "                cmap=\"RdYlBu\", edgecolor='white')\n",
    "    \n",
    "    XX, YY = np.meshgrid(np.linspace(round(min(min_xy)), round(max(max_xy)),X.shape[0]),\n",
    "                         np.linspace(round(min(min_xy)), round(max(max_xy)),X.shape[0]))\n",
    "    positions = np.vstack([XX.ravel(), YY.ravel()])\n",
    "    ax.contour(XX,YY,fz(positions.T).reshape(X.shape[0],X.shape[0]),[0], colors='black')\n",
    "    \n",
    "    ax.set(\n",
    "       xlim=(min_xy[0]-border_xy[0], max_xy[0]+border_xy[0]), \n",
    "       ylim=(min_xy[1]-border_xy[1], max_xy[1]+border_xy[1]),\n",
    "       xlabel=xaxis, ylabel=yaxis)\n",
    "    plt.title(title)\n",
    "    plt.show()"
   ]
  },
  {
   "cell_type": "code",
   "execution_count": 12,
   "metadata": {},
   "outputs": [],
   "source": [
    "# Función del primer apartado\n",
    "def f1(X):\n",
    "    return (X[:, 0] - 10) ** 2 + (X[:, 1] - 20) ** 2 - 400\n",
    "\n",
    "# Función del segundo apartado\n",
    "def f2(X):\n",
    "    return 0.5 * (X[:, 0] + 10) ** 2 + (X[:, 1] - 20) ** 2 - 400\n",
    "\n",
    "# Función del tercer apartado\n",
    "def f3(X):\n",
    "    return 0.5 * (X[:, 0] - 10) ** 2 - (X[:, 1] + 20) ** 2 - 400\n",
    "\n",
    "# Función del cuarto apartado\n",
    "def f4(X):\n",
    "    return X[:, 1] - 20 * X[:, 0] ** 2  - 5 * X[:, 0]  + 3"
   ]
  },
  {
   "cell_type": "code",
   "execution_count": 13,
   "metadata": {},
   "outputs": [],
   "source": [
    "def error_rate_func(x, y, func):\n",
    "    \"\"\"\n",
    "    Función para calcular los ratios de acierto y error al predecir un conjunto\n",
    "    de puntos x mediante una función func, con respecto de los valores reales y\n",
    "    \n",
    "    :param x: Puntos que se usarán para predecir\n",
    "    :param y: Etiquetas reales de los puntos\n",
    "    :param func: Función con la que se predecirán los puntos\n",
    "    \n",
    "    :return Devuelve el ratio de puntos predichos correctamente y el ratio de\n",
    "            puntos predichos erróneamente\n",
    "    \"\"\"\n",
    "    \n",
    "    # Predecir las etiquetas\n",
    "    predicted_y = func(x)\n",
    "    \n",
    "    # Hacer que los valores predichos estén en el rango (-1, 1)\n",
    "    predicted_y = np.clip(predicted_y, -1, 1)\n",
    "    \n",
    "    return np.mean(predicted_y == y), np.mean(predicted_y != y) "
   ]
  },
  {
   "cell_type": "code",
   "execution_count": 14,
   "metadata": {},
   "outputs": [],
   "source": [
    "def adjust_PLA(data, label, max_iter, initial_values):\n",
    "    \"\"\"\n",
    "    Implementación del PLA para ajustar una serie de pesos\n",
    "    para un perceptrón\n",
    "    \n",
    "    :param data: Conjunto de datos con los que entrenar el perceptrón\n",
    "    :param label: Conjunto de etiquetas, una por cada grupo de características\n",
    "    :param max_iter: Número máximo de iteraciones (épocas) que hace el PLA\n",
    "                     (limitar el número de iteraciones en caso de que no converja)\n",
    "    :param initial_values: Valores iniciales de w\n",
    "    \n",
    "    :return Devuelve los pesos obtenidos (w) junto con el número de épocas\n",
    "            que ha tardado en converger (epoch)\n",
    "    \"\"\"\n",
    "    \n",
    "    # Copiar valores iniciales de w\n",
    "    w = np.copy(initial_values)\n",
    "    \n",
    "    # Inicializar la convergencia a falso\n",
    "    convergence = False\n",
    "    \n",
    "    # Inicializar el número de épocas realizadas a 0\n",
    "    epoch = 0\n",
    "    \n",
    "    # Mientras no se haya convergido, ajustar el Perceptron\n",
    "    while not convergence:\n",
    "        # Incrementar el número de épocas y decir que se ha convergido\n",
    "        convergence = True\n",
    "        epoch += 1\n",
    "        \n",
    "        # Recorrer cada elemento de los datos con su correspondiente etiqueta\n",
    "        # Si se ve que el valor predicho no se corresponde con el real\n",
    "        # se dice que no se ha convergido en esta época\n",
    "        for x, y in zip(data, label):\n",
    "            # Calculor valor predicho (función signo)\n",
    "            predicted_y = signo(w.dot(x.reshape(-1, 1)))\n",
    "            \n",
    "            # Comprobar si el valor predicho es igual al real\n",
    "            if predicted_y != y:\n",
    "                w += y * x\n",
    "                convergence = False  \n",
    "        \n",
    "        # Si se ha alcanzado el máximo de épocas, terminar\n",
    "        if epoch == max_iter:\n",
    "            break            \n",
    "    \n",
    "    return w, epoch"
   ]
  },
  {
   "cell_type": "code",
   "execution_count": 15,
   "metadata": {},
   "outputs": [],
   "source": [
    "# Crear el conjunto de datos añadiendo una columna con unos a los x\n",
    "data = np.c_[np.ones((x.shape[0], 1), dtype=np.float64), x]\n",
    "\n",
    "# Crear array de zeros\n",
    "zeros = np.array([0.0, 0.0, 0.0])"
   ]
  },
  {
   "cell_type": "code",
   "execution_count": 16,
   "metadata": {},
   "outputs": [
    {
     "name": "stdout",
     "output_type": "stream",
     "text": [
      "Algoritmo PLA con w_0 = [0.0, 0.0, 0.0]\n",
      "\n",
      "Valor w: [ 3.         24.77725903 68.99701013] \tNum. iteraciones: 4\n"
     ]
    }
   ],
   "source": [
    "print('Algoritmo PLA con w_0 = [0.0, 0.0, 0.0]\\n')\n",
    "\n",
    "# Lanzar el algoritmo PLA con w = [0, 0, 0] y guardar la información\n",
    "w, iter = adjust_PLA(data, y, 10000, zeros)\n",
    "print('Valor w: {} \\tNum. iteraciones: {}'.format(w, iter)) "
   ]
  },
  {
   "cell_type": "code",
   "execution_count": null,
   "metadata": {},
   "outputs": [],
   "source": []
  }
 ],
 "metadata": {
  "kernelspec": {
   "display_name": "Python 3",
   "language": "python",
   "name": "python3"
  },
  "language_info": {
   "codemirror_mode": {
    "name": "ipython",
    "version": 3
   },
   "file_extension": ".py",
   "mimetype": "text/x-python",
   "name": "python",
   "nbconvert_exporter": "python",
   "pygments_lexer": "ipython3",
   "version": "3.7.3"
  }
 },
 "nbformat": 4,
 "nbformat_minor": 2
}
