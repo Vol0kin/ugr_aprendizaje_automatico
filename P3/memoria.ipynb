{
 "cells": [
  {
   "cell_type": "markdown",
   "metadata": {},
   "source": [
    "# Problema de regresión"
   ]
  },
  {
   "cell_type": "markdown",
   "metadata": {},
   "source": [
    "## Descripción del problema"
   ]
  },
  {
   "cell_type": "markdown",
   "metadata": {},
   "source": [
    "En este problema vamos a trabajar con el conjunto de datos _Airfoil Self-Noise_, el cuál ha sido proporcionado por la NASA, y contiene los resultados de haber realizado un conjunto de pruebas aerodinámicas y acústicas en un túnel de viento sobre perfiles alares de dos y tres dimensiones.\n",
    "\n",
    "El conjunto de datos está compuesto por 1503 filas y 6 columnas, los valores de las cuáles son todos números reales. Los datos de las 5 primeras columnas se corresponden con los datos de entrada, y la última columna se corresponde con la información de salida. A continuación se puede ver que representa cada uno de los atributos de forma ordenada:\n",
    "\n",
    "1. Frecuencia, medida en $Hz$.\n",
    "2. Ángulo de ataque (ángulo que forman la cuerda geométrica de un perfil alar con la dirección del aire incidente), medida en grados.\n",
    "3. Longitud de la cuerda del perfil alar, medida en metros.\n",
    "4. Velocidad _free-stream_, medida en metros por segundo. \n",
    "5. Distancia de desplazamiento de succión, medida en metros.\n",
    "6. Nivel de presión sonora, medida en $dB$.\n"
   ]
  },
  {
   "cell_type": "markdown",
   "metadata": {},
   "source": [
    "## Análisis de los datos"
   ]
  },
  {
   "cell_type": "markdown",
   "metadata": {},
   "source": [
    "Antes de comenzar con todo el proceso de elección y selección de un modelo lineal, vamos a pararnos un momento para analizar los datos de los que disponemos con el fin de obtener más información sobre el problema.\n",
    "\n",
    "Lo primero que tenemos que hacer es cargar los datos. Para ello, vamos a usar una función genérica que nos permita leer ficheros de datos y obtener un _DataFrame_ que podamos usar luego. Vamos a ver como sería esta función:"
   ]
  },
  {
   "cell_type": "code",
   "execution_count": 1,
   "metadata": {},
   "outputs": [],
   "source": [
    "import numpy as np\n",
    "import pandas as pd\n",
    "\n",
    "def read_data_values(in_file, separator=None):\n",
    "    \"\"\"\n",
    "    Funcion para leer los datos de un archivo\n",
    "    \n",
    "    :param in_file Archivo de entrada\n",
    "    :param separator Separador que se utiliza en el archivo (por defecto\n",
    "                     None)\n",
    "    \n",
    "    :return Devuelve los datos leidos del archivo en un DataFrame\n",
    "    \"\"\"\n",
    "    \n",
    "    # Cargar los datos en un DataFrame\n",
    "    # Se indica que la primera columna no es el header\n",
    "    df = pd.read_csv(in_file, sep=separator, header=None)\n",
    "    \n",
    "    return df"
   ]
  },
  {
   "cell_type": "markdown",
   "metadata": {},
   "source": [
    "Con la función ya mostrada, vamos a cargar los datos:"
   ]
  },
  {
   "cell_type": "code",
   "execution_count": 2,
   "metadata": {},
   "outputs": [],
   "source": [
    "df = read_data_values('datos/airfoil_self_noise.dat', separator='\\t')\n",
    "\n",
    "# Asignamos nombres a las columnas (según los atributos)\n",
    "column_names = ['Frequency', 'Angle of attack', 'Chord length',\n",
    "                'Free-stream velocity', 'SSD thickness', 'Sound Pressure']\n",
    "df.columns = column_names"
   ]
  },
  {
   "cell_type": "markdown",
   "metadata": {},
   "source": [
    "Con los datos ya cargados, vamos a obtener cierta información sobre éstos. En problemas de este tipo nos interesa\n",
    "conocer por ejemplo si en ciertos casos faltan datos (no se ha podido obtener información sobre todos los\n",
    "atributos debido a que es imposible hacerlo, han habido errores a la hora de tomarlos o no se disponía de las\n",
    "herramientas necesarias), el número de valores distintos, los rangos de los datos (valores mínimos y máximos para\n",
    "cada atributo), si existe algún tipo de correlación entre las variables, etc.\n",
    "\n",
    "Vamos a comenzar estudiando primero las características más simples, para adentrarnos luego en el estudio de la correlación."
   ]
  },
  {
   "cell_type": "code",
   "execution_count": 3,
   "metadata": {},
   "outputs": [
    {
     "name": "stdout",
     "output_type": "stream",
     "text": [
      "Num. de valores del conjunto de datos y valores faltantes:\n",
      "<class 'pandas.core.frame.DataFrame'>\n",
      "RangeIndex: 1503 entries, 0 to 1502\n",
      "Data columns (total 6 columns):\n",
      "Frequency               1503 non-null int64\n",
      "Angle of attack         1503 non-null float64\n",
      "Chord length            1503 non-null float64\n",
      "Free-stream velocity    1503 non-null float64\n",
      "SSD thickness           1503 non-null float64\n",
      "Sound Pressure          1503 non-null float64\n",
      "dtypes: float64(5), int64(1)\n",
      "memory usage: 70.5 KB\n",
      "None\n",
      "\n",
      "Numero de valores distintos por atributo\n",
      "Frequency: 21\n",
      "Angle of attack: 27\n",
      "Chord length: 6\n",
      "Free-stream velocity: 4\n",
      "SSD thickness: 105\n",
      "Sound Pressure: 1456\n",
      "\n",
      "Valores minimos de cada atributo:\n",
      "Frequency               200.000000\n",
      "Angle of attack           0.000000\n",
      "Chord length              0.025400\n",
      "Free-stream velocity     31.700000\n",
      "SSD thickness             0.000401\n",
      "Sound Pressure          103.380000\n",
      "dtype: float64\n",
      "\n",
      "Valores maximos de cada atributo:\n",
      "Frequency               20000.000000\n",
      "Angle of attack            22.200000\n",
      "Chord length                0.304800\n",
      "Free-stream velocity       71.300000\n",
      "SSD thickness               0.058411\n",
      "Sound Pressure            140.987000\n",
      "dtype: float64\n"
     ]
    }
   ],
   "source": [
    "# Informacion sobre numero de filas, columnas y valores nulos\n",
    "print('Num. de valores del conjunto de datos y valores faltantes:')\n",
    "print(df.info())\n",
    "\n",
    "# Obtener número de valores únicos por atributo\n",
    "print('\\nNumero de valores distintos por atributo')\n",
    "\n",
    "for atribute in column_names:\n",
    "    print(atribute + ': ' + str(df[atribute].unique().shape[0]))\n",
    "\n",
    "# Mostrar los valores mínimos de cada atributo\n",
    "print('\\nValores minimos de cada atributo:')\n",
    "print(df.min())\n",
    "\n",
    "# Mostrar los valores máximos de cada atributo\n",
    "print('\\nValores maximos de cada atributo:')\n",
    "print(df.max())"
   ]
  },
  {
   "cell_type": "markdown",
   "metadata": {},
   "source": [
    "Como se puede ver, tal y como se ha dicho al principio, el conjunto de datos está formado por 1503 muestras, cada\n",
    "una de las cuáles tiene 6 valores (5 atributos de entrada y 1 de salida). Además, no falta información en ninguna\n",
    "de las muestras, lo cuál es una buena noticia, ya que nos ahorra pensar como rellenar esa información restante.\n",
    "\n",
    "Observando ahora los valores de los atributos, nos encontramos que, para los atributos de entrada, a pesar de\n",
    "tener un número considerable de muestras, el número de valores únicos es casi insignificante; dicho de otra forma,\n",
    "no hay mucha variabilidad en esta parte, ya que se repiten muchos de los valores. Para los valores de salida la\n",
    "cosa cambia, ya que ahí sí que existe más variabilidad. Analizando ahora los rangos de los valores, vemos que hay atributos cuya variabilidad es mucho mayor que la del resto (como por ejemplo la frecuencia o la velocidad _free-stream_), mientras que hay algunos atributos cuya variabilidad es mucho menor. Esto nos indica que, o bien hay \n",
    "atributos que no varían mucho y se podrían eliminar, o bien hay _outliers_ en las muestras, lo cuál hace que\n",
    "haya valores anómalos. Si miramos la salida, vemos que, a pesar de tener un montón de posibles valores, el rango de variabilidad no es tan grande como en otros atributos."
   ]
  }
 ],
 "metadata": {
  "kernelspec": {
   "display_name": "Python 3",
   "language": "python",
   "name": "python3"
  },
  "language_info": {
   "codemirror_mode": {
    "name": "ipython",
    "version": 3
   },
   "file_extension": ".py",
   "mimetype": "text/x-python",
   "name": "python",
   "nbconvert_exporter": "python",
   "pygments_lexer": "ipython3",
   "version": "3.7.1"
  }
 },
 "nbformat": 4,
 "nbformat_minor": 2
}
