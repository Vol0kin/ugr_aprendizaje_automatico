{
 "cells": [
  {
   "cell_type": "markdown",
   "metadata": {},
   "source": [
    "## Problema de regresión"
   ]
  },
  {
   "cell_type": "markdown",
   "metadata": {},
   "source": [
    "### Descripción del problema"
   ]
  },
  {
   "cell_type": "markdown",
   "metadata": {},
   "source": [
    "En este problema vamos a trabajar con el conjunto de datos _Airfoil Self-Noise_, el cuál ha sido proporcionado por la **NASA** y es resultado de haber realizado un conjunto de pruebas aerodinámicas y acústicas en un túnel de viento sobre perfiles alares de dos y tres dimensiones.\n",
    "\n",
    "El conjunto de datos está compuesto por 1503 filas de 6 elementos. Cada elemento es un valor numérico real. Los datos de las 5 primeras columnas se corresponden con los datos de entrada, y se corresponden con los siguientes atributos:\n",
    "\n",
    "1. Frecuencia, medida en Hz.\n",
    "2. Ángulo de ataque (ángulo que forman la cuerda geométrica de un perfil alar con la dirección del aire incidente), medida en grados.\n",
    "3. Longitud de la cuerda del perfil alar, medida en metros.\n",
    "4. Free-stream velocity, in meters per second. \n",
    "5. Suction side displacement thickness, in meters. \n",
    "\n",
    "La salida se corresponde con la última columna, y representa:\n",
    "6. Nivel de presión sonora, medida en decibelios. "
   ]
  },
  {
   "cell_type": "code",
   "execution_count": null,
   "metadata": {},
   "outputs": [],
   "source": []
  }
 ],
 "metadata": {
  "kernelspec": {
   "display_name": "Python 3",
   "language": "python",
   "name": "python3"
  },
  "language_info": {
   "codemirror_mode": {
    "name": "ipython",
    "version": 3
   },
   "file_extension": ".py",
   "mimetype": "text/x-python",
   "name": "python",
   "nbconvert_exporter": "python",
   "pygments_lexer": "ipython3",
   "version": "3.7.1"
  }
 },
 "nbformat": 4,
 "nbformat_minor": 2
}
